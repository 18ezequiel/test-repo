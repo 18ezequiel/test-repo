{
 "cells": [
  {
   "cell_type": "code",
   "execution_count": 1,
   "metadata": {},
   "outputs": [],
   "source": [
    "from pyspark.sql.functions import *\n",
    "from pyspark.sql.types import *\n",
    "from pyspark.sql import SparkSession\n",
    "import os\n",
    "from pyspark.sql.types import StructType, StructField, StringType, IntegerType\n",
    "from pyspark.sql.functions import from_unixtime, to_date\n",
    "from pyspark.sql.functions import col\n",
    "from pyspark.sql.functions import regexp_replace\n",
    "from pyspark.sql.functions import lower"
   ]
  },
  {
   "cell_type": "code",
   "execution_count": 2,
   "metadata": {},
   "outputs": [],
   "source": [
    "# crea una instancia de SparkSession\n",
    "spark = SparkSession.builder.appName(\"Sitios - restaurantes\").getOrCreate()"
   ]
  },
  {
   "attachments": {},
   "cell_type": "markdown",
   "metadata": {},
   "source": [
    "1. TRABAJAMOS DIRECTAMENTE CON LOS DATOS DEL ESTADO DE NUEVA YORK"
   ]
  },
  {
   "cell_type": "code",
   "execution_count": 3,
   "metadata": {},
   "outputs": [
    {
     "name": "stdout",
     "output_type": "stream",
     "text": [
      "+--------------------+--------------------+-------------+------+--------------------+--------------------+--------------------+--------------------+\n",
      "|             user_id|                name|         time|rating|                text|                pics|                resp|             gmap_id|\n",
      "+--------------------+--------------------+-------------+------+--------------------+--------------------+--------------------+--------------------+\n",
      "|11372210469230823...|      Alvin Martinez|1603494795361|     5|I'm late to posti...|[{\"url\":[\"https:/...|                null|0x89c25fc9494dce4...|\n",
      "|10729344149210932...|     Johnnie Jackson|1620157037403|     1|Very dissatisfied...|                null|{\"time\":162026836...|0x89c25fc9494dce4...|\n",
      "|10037858580181940...|        Manie Blazer|1597431662039|     5|Excellent very we...|                null|                null|0x89c25fc9494dce4...|\n",
      "|11499816115301982...|      Fashion Fiinds|1543773862044|     5|Basing my review ...|                null|{\"time\":154385531...|0x89c25fc9494dce4...|\n",
      "|11717818572842229...|      Andres Rieloff|1597279097718|     1|Bad! Disorganized...|                null|                null|0x89c25fc9494dce4...|\n",
      "|11055512483166433...|   claribel placeres|1456098569126|     1|Worse customer ev...|                null|                null|0x89c25fc9494dce4...|\n",
      "|10037858580181940...|        Manie Blazer|1597431662039|     5|Excellent very we...|                null|                null|0x89c25fc9494dce4...|\n",
      "|11055512483166433...|   claribel placeres|1456098569126|     1|Worse customer ev...|                null|                null|0x89c25fc9494dce4...|\n",
      "|11027085689719977...|       Mireya Robles|1614117783581|     5|(Translated by Go...|                null|{\"time\":155179134...|0x89c25fc9494dce4...|\n",
      "|11018246194682118...|Jose Abimelec “ME...|1603310536331|     5|(Translated by Go...|                null|                null|0x89c25fc9494dce4...|\n",
      "|11009832941668217...|       Thomas Schmid|1469775211732|     4|(Translated by Go...|                null|                null|0x89c25fc9494dce4...|\n",
      "|10958366381447636...|           Ramon Coj|1529458074142|     4|(Translated by Go...|                null|                null|0x89c25fc9494dce4...|\n",
      "|10536279556931633...|       Sol Brillante|1489859075479|     5|(Translated by Go...|                null|                null|0x89c25fc9494dce4...|\n",
      "|11675595500793973...|      Jose l. Orduna|1530211344356|     1|(Translated by Go...|                null|                null|0x89c25fc9494dce4...|\n",
      "|11407485266563370...|         Juanjose A.|1460605543817|     1|(Translated by Go...|                null|                null|0x89c25fc9494dce4...|\n",
      "|10549910428286469...|     Oscar Fernandez|1489106271091|     1|(Translated by Go...|                null|                null|0x89c25fc9494dce4...|\n",
      "|10650755205352997...|      Renato Vanegas|1543452106697|     5|(Translated by Go...|[{\"url\":[\"https:/...|{\"time\":154385472...|0x89c25fc9494dce4...|\n",
      "|10776215246482482...|    Tatiana Martinez|1553625245873|     1|(Translated by Go...|                null|{\"time\":155774297...|0x89c25fc9494dce4...|\n",
      "|10492724686594474...|    Rafael Bacuilima|1592264617160|     5|                null|                null|                null|0x89c25fc9494dce4...|\n",
      "|11610275551580018...|      Hamzeh Emriesh|1611798876088|     5|                null|                null|                null|0x89c25fc9494dce4...|\n",
      "+--------------------+--------------------+-------------+------+--------------------+--------------------+--------------------+--------------------+\n",
      "only showing top 20 rows\n",
      "\n"
     ]
    }
   ],
   "source": [
    "# Define the schema1\n",
    "schema1 = StructType([\n",
    "    StructField(\"user_id\", StringType(), True), # no me reconoce como integer\n",
    "    StructField(\"name\", StringType(), True),\n",
    "    StructField(\"time\", StringType(), True), # no me reconoce como integer\n",
    "    StructField(\"rating\", IntegerType(), True),\n",
    "    StructField(\"text\", StringType(), True),\n",
    "    StructField(\"pics\", StringType(), True),\n",
    "    StructField(\"resp\", StringType(), True),\n",
    "    StructField(\"gmap_id\", StringType(), True)\n",
    "])\n",
    "\n",
    "# Create an empty DataFrame with the schema\n",
    "data = spark.createDataFrame([], schema1)\n",
    "\n",
    "folder_path_estados = './reviews-estados/review-New_York'\n",
    "\n",
    "# Lee cada archivo JSON en la carpeta y añádelo al DataFrame\n",
    "for filename in os.listdir(folder_path_estados):\n",
    "    if filename.endswith(\".json\"):\n",
    "        file_path = os.path.join(folder_path_estados, filename)\n",
    "        temp_df = spark.read.json(file_path, schema1)\n",
    "        data = data.union(temp_df)\n",
    "\n",
    "# Muestra el DataFrame resultante\n",
    "data.show()"
   ]
  },
  {
   "cell_type": "code",
   "execution_count": 4,
   "metadata": {},
   "outputs": [],
   "source": [
    "# transformamos la marca de tiempo en milisegundos a tipo de dato fecha \"date\"\n",
    "data = data.withColumn(\"timestamp_seconds\", data[\"time\"] / 1000) \\\n",
    "       .withColumn(\"date\", to_date(from_unixtime(\"timestamp_seconds\")))"
   ]
  },
  {
   "cell_type": "code",
   "execution_count": 5,
   "metadata": {},
   "outputs": [],
   "source": [
    "# eliminamos las columnas que ya no se va a utilizar\n",
    "data = data.drop('time', 'timestamp_seconds')"
   ]
  },
  {
   "cell_type": "code",
   "execution_count": 6,
   "metadata": {},
   "outputs": [],
   "source": [
    "# en caso tengamos filas duplicadas\n",
    "data = data.dropDuplicates()"
   ]
  },
  {
   "cell_type": "code",
   "execution_count": 7,
   "metadata": {},
   "outputs": [
    {
     "name": "stdout",
     "output_type": "stream",
     "text": [
      "+--------------------+--------------------+------+--------------------+----+--------------------+--------------------+----------+\n",
      "|             user_id|                name|rating|                text|pics|                resp|             gmap_id|      date|\n",
      "+--------------------+--------------------+------+--------------------+----+--------------------+--------------------+----------+\n",
      "|11690824775570679...|   Svetlana Poliakov|     1|                null|null|                null|0x89c2446962b02a1...|2019-03-24|\n",
      "|10265187065709847...|    Maria defabritis|     5|                null|null|                null|0x89c25928463ca71...|2021-08-22|\n",
      "|11203276021940441...|         Eddie Pipes|     4|    These guys rock✌|null|                null|0x89c262619fa8508...|2018-12-06|\n",
      "|11223099235166105...|       Angel Sanchez|     5|                null|null|                null|0x89c25fa92c86f85...|2020-02-17|\n",
      "|10068343302999201...|             Laura S|     5|Went to the farm ...|null|                null|0x89c2b9d44e76948...|2019-03-23|\n",
      "|11724734180229028...|           Jen Erwig|     5|Always a pleasant...|null|{\"time\":154895210...|0x89e840f01ceabe4...|2019-01-29|\n",
      "|10897090685492166...|       Joseph Istvan|     4|Is a great place ...|null|                null|0x89dd0f7dd0924db...|2018-08-15|\n",
      "|10486911587282784...|        Felix Garcia|     5|I’ve been living ...|null|                null|0x89c2f7ac3a82c0b...|2020-11-21|\n",
      "|10896354805189389...|          Abu Ali BH|     2|Its very small, m...|null|                null|0x89c27c8c5b2eb32...|2019-03-26|\n",
      "|10717806174021977...|       James Regnier|     5|                null|null|                null|0x89c2638f5626d3f...|2018-11-27|\n",
      "|10923949404913002...|        James Leiner|     4|A surprise in the...|null|                null|0x89dceaf8ca10fe0...|2019-08-11|\n",
      "|11076456566661514...|          Jesenia Gz|     5|Love this locatio...|null|                null|0x89c258e59dac28c...|2019-03-08|\n",
      "|10127323466857583...|   Aaron Scott Lewis|     5|Literally one of ...|null|                null|0x89def3a6bb7c409...|2020-10-01|\n",
      "|11685452546765632...|   Guillermina Islas|     5|(Translated by Go...|null|                null|0x89c2f480e01d698...|2019-01-04|\n",
      "|10158223767372236...|Anthony Golembiewski|     5|Associated has Cl...|null|                null|0x89c25deb40091eb...|2016-03-29|\n",
      "|10051568942719158...|         Josh Mathai|     5|                null|null|                null|0x89e83a8376bddaf...|2019-04-06|\n",
      "|10478241555812585...|     Daniela Gamundi|     5|            Amazing.|null|                null|0x89c259cfd197c45...|2020-11-21|\n",
      "|10403347188425062...|        Thomas Morey|     5|                null|null|                null|0x89d190d0549141f...|2018-04-23|\n",
      "|10257585112668781...|            W Cutter|     5|Good service and ...|null|                null|0x4067b657f2c7d81...|2017-02-08|\n",
      "|10892847165514071...|     Rafael Lisandro|     1|$950 with a W2 th...|null|                null|0x89c2f479b29a20b...|2017-01-16|\n",
      "+--------------------+--------------------+------+--------------------+----+--------------------+--------------------+----------+\n",
      "only showing top 20 rows\n",
      "\n"
     ]
    }
   ],
   "source": [
    "data.show()"
   ]
  },
  {
   "attachments": {},
   "cell_type": "markdown",
   "metadata": {},
   "source": [
    "2. TRABAJAMOS CON LOS DATOS DE LOS SITIOS"
   ]
  },
  {
   "cell_type": "code",
   "execution_count": 9,
   "metadata": {},
   "outputs": [],
   "source": [
    "# Define the schema\n",
    "schema = StructType([\n",
    "    StructField(\"name\", StringType(), True),\n",
    "    StructField(\"address\", StringType(), True),\n",
    "    StructField(\"gmap_id\", StringType(), True),\n",
    "    StructField(\"description\", StringType(), True),\n",
    "    StructField(\"latitude\", FloatType(), True),\n",
    "    StructField(\"longitude\", FloatType(), True),\n",
    "    StructField(\"category\", StringType(), True),\n",
    "    StructField(\"avg_rating\", FloatType(), True),\n",
    "    StructField(\"num_of_reviews\", IntegerType(), True),\n",
    "    StructField(\"price\", StringType(), True),\n",
    "    StructField(\"hours\", StringType(), True),\n",
    "    StructField(\"MISC\", StringType(), True),\n",
    "    StructField(\"state\", StringType(), True),\n",
    "    StructField(\"relative_results\", StringType(), True),\n",
    "    StructField(\"url\", StringType(), True)\n",
    "])\n",
    "\n",
    "# Create an empty DataFrame with the schema\n",
    "df = spark.createDataFrame([], schema)\n",
    "\n",
    "folder_path = './metadata-sitios'\n",
    "\n",
    "# Lee cada archivo JSON en la carpeta y añádelo al DataFrame\n",
    "for filename in os.listdir(folder_path):\n",
    "    if filename.endswith(\".json\"):\n",
    "        file_path = os.path.join(folder_path, filename)\n",
    "        temp_df = spark.read.json(file_path, schema)\n",
    "        df = df.union(temp_df)"
   ]
  },
  {
   "cell_type": "code",
   "execution_count": 10,
   "metadata": {},
   "outputs": [
    {
     "name": "stdout",
     "output_type": "stream",
     "text": [
      "+--------------------+--------------------+--------------------+--------------------+---------+----------+--------------------+----------+--------------+-----+--------------------+--------------------+--------------------+--------------------+--------------------+\n",
      "|                name|             address|             gmap_id|         description| latitude| longitude|            category|avg_rating|num_of_reviews|price|               hours|                MISC|               state|    relative_results|                 url|\n",
      "+--------------------+--------------------+--------------------+--------------------+---------+----------+--------------------+----------+--------------+-----+--------------------+--------------------+--------------------+--------------------+--------------------+\n",
      "|     Porter Pharmacy|Porter Pharmacy, ...|0x88f16e41928ff68...|                null|  32.3883|  -83.3571|        [\"Pharmacy\"]|       4.9|            16| null|[[\"Friday\",\"8AM–6...|{\"Service options...|   Open ⋅ Closes 6PM|[\"0x88f16e4192943...|https://www.googl...|\n",
      "|        City Textile|City Textile, 300...|0x80c2c98c0e3c16f...|                null| 34.01889|-118.21529|[\"Textile exporter\"]|       4.5|             6| null|                null|                null|            Open now|[\"0x80c2c624136ea...|https://www.googl...|\n",
      "|        San Soo Dang|San Soo Dang, 761...|0x80c2c778e3b73d3...|                null| 34.05809|-118.29213|[\"Korean restaura...|       4.4|            18| null|[[\"Thursday\",\"6:3...|{\"Service options...|   Open ⋅ Closes 6PM|[\"0x80c2c78249aba...|https://www.googl...|\n",
      "|        Nova Fabrics|Nova Fabrics, 220...|0x80c2c89923b27a4...|                null| 34.02367|-118.23293|    [\"Fabric store\"]|       3.3|             6| null|[[\"Thursday\",\"9AM...|{\"Service options...|   Open ⋅ Closes 5PM|[\"0x80c2c88114772...|https://www.googl...|\n",
      "|    Nobel Textile Co|Nobel Textile Co,...|0x80c2c632f933b07...|                null|34.036694|-118.24942|    [\"Fabric store\"]|       4.3|             7| null|[[\"Thursday\",\"9AM...|{\"Service options...|   Open ⋅ Closes 5PM|[\"0x80c2c62c49608...|https://www.googl...|\n",
      "|Matrix Internatio...|Matrix Internatio...|0x80c2cf163db6bc8...|                null|34.015503|-118.18184|    [\"Fabric store\"]|       3.5|             6| null|[[\"Thursday\",\"8:3...|{\"Accessibility\":...|Open ⋅ Closes 5:30PM|[\"0x80c2cf042a5d9...|https://www.googl...|\n",
      "|        Vons Chicken|Vons Chicken, 127...|0x80dd2b4c8555edb...|                null|  33.9164|-118.01086|      [\"Restaurant\"]|       4.5|            18| null|[[\"Thursday\",\"11A...|{\"Service options...|Open ⋅ Closes 9:30PM|                null|https://www.googl...|\n",
      "|Polished Nail Sal...|Polished Nail Sal...|0x87ec238afdd8837...|                null|41.614197| -93.84727|[\"Nail salon\",\"Wa...|       4.0|            86| null|[[\"Thursday\",\"9AM...|{\"From the busine...|   Open ⋅ Closes 8PM|[\"0x87ec2481df68e...|https://www.googl...|\n",
      "|Sweet Rewards Glu...|Sweet Rewards Glu...|0x87ec235c54d25b3...|                null|41.616077|-93.865486|[\"Bakery\",\"Health...|       4.7|            21| null|[[\"Thursday\",\"10A...|{\"Service options...|  Permanently closed|[\"0x87ee974869295...|https://www.googl...|\n",
      "|           PeepNotes|                null|0x87ee85ac3cb23b4...|                null|41.846035| -93.75612|[\"Greeting card s...|       5.0|             1| null|[[\"Thursday\",\"7AM...|                null|   Open ⋅ Closes 8PM|[\"0x87ee915d9604e...|https://www.googl...|\n",
      "|  Lush Family Dental|Lush Family Denta...|0x87ec2394c2cd9d2...|                null|41.585293| -93.85511|[\"Dentist\",\"Cosme...|       5.0|           178| null|[[\"Thursday\",\"7AM...|{\"Accessibility\":...|   Open ⋅ Closes 4PM|[\"0x87ec2482098b6...|https://www.googl...|\n",
      "|     515 Auto Shades|515 Auto Shades, ...|0x87ee95d1e474531...|                null|41.606083| -93.49863|[\"Auto glass shop...|       5.0|            28| null|[[\"Thursday\",\"9AM...|{\"Accessibility\":...|   Open ⋅ Closes 6PM|                null|https://www.googl...|\n",
      "|Lena’s Beauty Nai...|Lena’s Beauty Nai...|0x87ec2481df6626b...|                null| 41.61631|-93.858345|    [\"Beauty salon\"]|       4.2|           128| null|[[\"Thursday\",\"9AM...|{\"Health & safety...|   Open ⋅ Closes 7PM|[\"0x87ec20ce836ca...|https://www.googl...|\n",
      "|Black Tie Ski Ren...|Black Tie Ski Ren...|0x80960c29f2e3bf2...|                null|37.638756|-118.96606|[\"Ski rental serv...|       5.0|            34| null|[[\"Thursday\",\"8AM...|{\"Accessibility\":...|   Open ⋅ Closes 5PM|[\"0x80960dcd6ba76...|https://www.googl...|\n",
      "|         NTK OUTDOOR|NTK OUTDOOR, 2315...|0x88d9beb4fe0532c...|                null|25.795204|-80.366035|[\"Corporate office\"]|       5.0|            35| null|[[\"Thursday\",\"9AM...|{\"Accessibility\":...|   Open ⋅ Closes 6PM|[\"0x88d9bfd49a624...|https://www.googl...|\n",
      "|     Angel-A Massage|Angel-A Massage, ...|0x809adef58ae560b...|                null| 38.66263|-121.30864|[\"Massage spa\",\"C...|       4.3|             6| null|[[\"Thursday\",\"9:3...|                null|Open ⋅ Closes 9:30PM|[\"0x809adee9ac6f1...|https://www.googl...|\n",
      "| Dunn-Edwards Paints|Dunn-Edwards Pain...|0x809b1ff6d3a60c4...|Chain selling int...| 38.74346|-121.25876|[\"Paint store\",\"P...|       4.7|            26| null|[[\"Thursday\",\"6:3...|{\"Service options...|   Open ⋅ Closes 5PM|[\"0x809b201630f90...|https://www.googl...|\n",
      "|       Elite Massage|Elite Massage, 81...|0x809ae0a7ce91433...|                null|38.664917|-121.26019|[\"Massage therapi...|       5.0|             1| null|                null|                null|                null|[\"0x809ade27605de...|https://www.googl...|\n",
      "| PODS Sacramento Hub|PODS Sacramento H...|0x809ad95924805cf...|                null|38.658993|-121.41296|[\"Corporate office\"]|       4.0|             8| null|                null|{\"Accessibility\":...|            Open now|[\"0x809ad8fc85a03...|https://www.googl...|\n",
      "|Happy Spa & Massa...|Happy Spa & Massa...|0x809b217a6cbe4fa...|                null| 38.78555|-121.28689|[\"Massage therapi...|       2.7|             8| null|[[\"Thursday\",\"9:3...|{\"Accessibility\":...|  Open ⋅ Closes 10PM|[\"0x809b20410d8df...|https://www.googl...|\n",
      "+--------------------+--------------------+--------------------+--------------------+---------+----------+--------------------+----------+--------------+-----+--------------------+--------------------+--------------------+--------------------+--------------------+\n",
      "only showing top 20 rows\n",
      "\n"
     ]
    }
   ],
   "source": [
    "# verificamos como queda el df\n",
    "df.show()"
   ]
  },
  {
   "cell_type": "code",
   "execution_count": 11,
   "metadata": {},
   "outputs": [],
   "source": [
    "# en caso tengamos filas duplicadas\n",
    "df = df.dropDuplicates()"
   ]
  },
  {
   "attachments": {},
   "cell_type": "markdown",
   "metadata": {},
   "source": [
    "3. MODELO ALS"
   ]
  },
  {
   "cell_type": "code",
   "execution_count": 12,
   "metadata": {},
   "outputs": [],
   "source": [
    "# seleccionamos solo los datos a usar en el modelo\n",
    "date_sitios_ml = df.select('name', 'gmap_id', 'avg_rating', 'category')"
   ]
  },
  {
   "cell_type": "code",
   "execution_count": 14,
   "metadata": {},
   "outputs": [
    {
     "name": "stdout",
     "output_type": "stream",
     "text": [
      "+--------------------+--------------------+----------+--------------------+\n",
      "|                name|             gmap_id|avg_rating|            category|\n",
      "+--------------------+--------------------+----------+--------------------+\n",
      "|        City Textile|0x80c2c98c0e3c16f...|       4.5|[\"Textile exporter\"]|\n",
      "|       DComputer Inc|0x8665a6e2bff9ec5...|       2.8|[\"Computer repair...|\n",
      "|SERVPRO of Benton...|0x8811e37ceb7dcb7...|       4.8|[\"Water damage re...|\n",
      "|Top Cat Seafood R...|0x864e9891e381f3d...|       3.9|[\"Seafood restaur...|\n",
      "|  Bjorn-Lass Kennels|0x89c3071901bfe39...|       4.8|[\"Kennel\",\"Pet gr...|\n",
      "|Klarisana - Ketam...|0x876b89cee8016a6...|       4.9|[\"Mental health c...|\n",
      "|Fabolous Nails & ...|0x86249c04fc8b0d5...|       4.3|      [\"Nail salon\"]|\n",
      "|Stephen Johnson, ...|0x88470ba747027ad...|       4.6|       [\"Urologist\"]|\n",
      "|Eastridge Dental ...|0x86e7453d2e30589...|       4.9|         [\"Dentist\"]|\n",
      "|P.S. X114 - Luis ...|0x89c2f4300e929ba...|       4.5|[\"School\",\"Public...|\n",
      "|PALMS WEST PKWY a...|0x88d92fb9cd0b379...|       5.0|        [\"Bus stop\"]|\n",
      "|            7-Eleven|0x89c6aed03190fd1...|       2.3|[\"Convenience sto...|\n",
      "|Mid Florida Prost...|0x88e8bc9e33dd80f...|       4.7|[\"Orthotics & pro...|\n",
      "|Christine Smith, ...|0x89b7f6d787f2713...|       3.6|          [\"Doctor\"]|\n",
      "|   Royal Dental Care|0x549541d6b3a8fbb...|       4.3|[\"Dentist\",\"Cosme...|\n",
      "|     Acklen West End|0x886466acfca58fb...|       3.8|[\"Apartment build...|\n",
      "|Willow Lane Auto ...|0x887d808965ff998...|       4.6| [\"Used car dealer\"]|\n",
      "|Habibi Halal Gyro...|0x89c25b373b8ec23...|       5.0|[\"Fast food resta...|\n",
      "|Lenza Law Firm, PLLC|0x89c24cfa076b2be...|       4.3|[\"Estate planning...|\n",
      "|Thrifty Check Cas...|0x89dd0fa03ceb115...|       4.3|[\"Check cashing s...|\n",
      "+--------------------+--------------------+----------+--------------------+\n",
      "only showing top 20 rows\n",
      "\n"
     ]
    }
   ],
   "source": [
    "# observamos los datos\n",
    "date_sitios_ml.show()"
   ]
  },
  {
   "cell_type": "code",
   "execution_count": 15,
   "metadata": {},
   "outputs": [],
   "source": [
    "# filtramos solo el rubro de restaurantes que es en lo que se enfocara el sistema de recomendacion\n",
    "date_sitios_ml = date_sitios_ml.filter(lower(df[\"category\"]).like(\"%restaurant%\"))"
   ]
  },
  {
   "cell_type": "code",
   "execution_count": 16,
   "metadata": {},
   "outputs": [
    {
     "name": "stdout",
     "output_type": "stream",
     "text": [
      "+--------------------+--------------------+----------+--------------------+\n",
      "|                name|             gmap_id|avg_rating|            category|\n",
      "+--------------------+--------------------+----------+--------------------+\n",
      "|Top Cat Seafood R...|0x864e9891e381f3d...|       3.9|[\"Seafood restaur...|\n",
      "|Habibi Halal Gyro...|0x89c25b373b8ec23...|       5.0|[\"Fast food resta...|\n",
      "|Admiral Craft Equ...|0x89c280501e760d5...|       3.0|[\"Manufacturer\",\"...|\n",
      "|      The Lob Father|0x8858310e235e921...|       3.3|      [\"Restaurant\"]|\n",
      "|Lilikoi Asian Bistro|0x87badfb47acde91...|       4.7|      [\"Restaurant\"]|\n",
      "|          San Julian|0x87b213efebe510f...|       4.1|      [\"Restaurant\"]|\n",
      "|               Shell|0x8843382b9a776ae...|       4.9|[\"Gas station\",\"A...|\n",
      "|    Bocca Steakhouse|0x80c298259dc3e43...|       4.0|[\"Steak house\",\"B...|\n",
      "|               Eatly|0x883f5be0a76a1c9...|       5.0|      [\"Restaurant\"]|\n",
      "|     Socorrito Cenar|0x808e331bc8f0000...|       4.5|      [\"Restaurant\"]|\n",
      "|  Long John Silver's|0x8811ec192b7115a...|       3.5|[\"Seafood restaur...|\n",
      "|     Mainstay Tavern|0x88c2f730debd585...|       3.5|      [\"Restaurant\"]|\n",
      "|               Shell|0x89b16b35ee5e18a...|       3.1|[\"Gas station\",\"A...|\n",
      "|Food Truck De Cam...|0x88e765a15b82979...|       4.6|[\"Takeout Restaur...|\n",
      "|Racanelli's Pizzeria|0x89c2973ecbf5f8a...|       3.5|[\"Italian restaur...|\n",
      "|  Tu esquina sabrosa|0x88dd738fd4ebbe9...|       4.6|[\"Puerto Rican re...|\n",
      "|       Salt & Pepper|0x53618d602e0566d...|       4.9|[\"American restau...|\n",
      "|        Terrace Cafe|0x863b159e8f6a561...|       4.0|[\"American restau...|\n",
      "|Charleys Cheesest...|0x88540f3d94ff0af...|       1.8|[\"Cheesesteak res...|\n",
      "|   Pizza Hut Express|0x89ac921cfbf010e...|       3.0|[\"Pizza restauran...|\n",
      "+--------------------+--------------------+----------+--------------------+\n",
      "only showing top 20 rows\n",
      "\n"
     ]
    }
   ],
   "source": [
    "# verificamos los datos como nos queda\n",
    "date_sitios_ml.show()"
   ]
  },
  {
   "cell_type": "code",
   "execution_count": 17,
   "metadata": {},
   "outputs": [],
   "source": [
    "# filtramos los datos que vamos a usar del dataframe de nueva york\n",
    "date_newyork_ml = data.select('user_id', 'name', 'rating', 'text', 'gmap_id', 'date')"
   ]
  },
  {
   "cell_type": "code",
   "execution_count": 18,
   "metadata": {},
   "outputs": [
    {
     "name": "stdout",
     "output_type": "stream",
     "text": [
      "+--------------------+--------------------+------+--------------------+--------------------+----------+\n",
      "|             user_id|                name|rating|                text|             gmap_id|      date|\n",
      "+--------------------+--------------------+------+--------------------+--------------------+----------+\n",
      "|11690824775570679...|   Svetlana Poliakov|     1|                null|0x89c2446962b02a1...|2019-03-24|\n",
      "|10265187065709847...|    Maria defabritis|     5|                null|0x89c25928463ca71...|2021-08-22|\n",
      "|11203276021940441...|         Eddie Pipes|     4|    These guys rock✌|0x89c262619fa8508...|2018-12-06|\n",
      "|11223099235166105...|       Angel Sanchez|     5|                null|0x89c25fa92c86f85...|2020-02-17|\n",
      "|10068343302999201...|             Laura S|     5|Went to the farm ...|0x89c2b9d44e76948...|2019-03-23|\n",
      "|11724734180229028...|           Jen Erwig|     5|Always a pleasant...|0x89e840f01ceabe4...|2019-01-29|\n",
      "|10897090685492166...|       Joseph Istvan|     4|Is a great place ...|0x89dd0f7dd0924db...|2018-08-15|\n",
      "|10486911587282784...|        Felix Garcia|     5|I’ve been living ...|0x89c2f7ac3a82c0b...|2020-11-21|\n",
      "|10896354805189389...|          Abu Ali BH|     2|Its very small, m...|0x89c27c8c5b2eb32...|2019-03-26|\n",
      "|10717806174021977...|       James Regnier|     5|                null|0x89c2638f5626d3f...|2018-11-27|\n",
      "|10923949404913002...|        James Leiner|     4|A surprise in the...|0x89dceaf8ca10fe0...|2019-08-11|\n",
      "|11076456566661514...|          Jesenia Gz|     5|Love this locatio...|0x89c258e59dac28c...|2019-03-08|\n",
      "|10127323466857583...|   Aaron Scott Lewis|     5|Literally one of ...|0x89def3a6bb7c409...|2020-10-01|\n",
      "|11685452546765632...|   Guillermina Islas|     5|(Translated by Go...|0x89c2f480e01d698...|2019-01-04|\n",
      "|10158223767372236...|Anthony Golembiewski|     5|Associated has Cl...|0x89c25deb40091eb...|2016-03-29|\n",
      "|10051568942719158...|         Josh Mathai|     5|                null|0x89e83a8376bddaf...|2019-04-06|\n",
      "|10478241555812585...|     Daniela Gamundi|     5|            Amazing.|0x89c259cfd197c45...|2020-11-21|\n",
      "|10403347188425062...|        Thomas Morey|     5|                null|0x89d190d0549141f...|2018-04-23|\n",
      "|10257585112668781...|            W Cutter|     5|Good service and ...|0x4067b657f2c7d81...|2017-02-08|\n",
      "|10892847165514071...|     Rafael Lisandro|     1|$950 with a W2 th...|0x89c2f479b29a20b...|2017-01-16|\n",
      "+--------------------+--------------------+------+--------------------+--------------------+----------+\n",
      "only showing top 20 rows\n",
      "\n"
     ]
    }
   ],
   "source": [
    "# observamos los datos\n",
    "date_newyork_ml.show()"
   ]
  },
  {
   "cell_type": "code",
   "execution_count": 19,
   "metadata": {},
   "outputs": [],
   "source": [
    "# hacemos un join de los datos que tenemos tanto de sitios como de nueva york usando como id en comun el gmap_id\n",
    "df_join = date_sitios_ml.join(date_newyork_ml, \"gmap_id\")"
   ]
  },
  {
   "cell_type": "code",
   "execution_count": 20,
   "metadata": {},
   "outputs": [
    {
     "name": "stdout",
     "output_type": "stream",
     "text": [
      "+--------------------+-------+----------+--------------------+--------------------+--------------------+------+--------------------+----------+\n",
      "|             gmap_id|   name|avg_rating|            category|             user_id|                name|rating|                text|      date|\n",
      "+--------------------+-------+----------+--------------------+--------------------+--------------------+------+--------------------+----------+\n",
      "|0x4cca29c04f91cd3...|Dunkin'|       3.5|[\"Coffee shop\",\"B...|10136595532319861...|          Ian Wootan|     5|                null|2020-01-12|\n",
      "|0x4cca29c04f91cd3...|Dunkin'|       3.5|[\"Coffee shop\",\"B...|10073014936510875...|        Lynn Trombly|     5|Love to order ahe...|2021-02-28|\n",
      "|0x4cca29c04f91cd3...|Dunkin'|       3.5|[\"Coffee shop\",\"B...|10566878241022763...|       Naomi Chemtob|     5|This is a great b...|2019-08-18|\n",
      "|0x4cca29c04f91cd3...|Dunkin'|       3.5|[\"Coffee shop\",\"B...|11502203106029475...|                 V Q|     5|                null|2020-05-06|\n",
      "|0x4cca29c04f91cd3...|Dunkin'|       3.5|[\"Coffee shop\",\"B...|10593262106639586...|             Britt G|     2|The service could...|2016-01-01|\n",
      "|0x4cca29c04f91cd3...|Dunkin'|       3.5|[\"Coffee shop\",\"B...|11391433046159536...|         Carol Gokey|     5|        Good service|2021-04-01|\n",
      "|0x4cca29c04f91cd3...|Dunkin'|       3.5|[\"Coffee shop\",\"B...|10359203020521857...|       DELORES LONGE|     5|Just wanted to le...|2020-09-15|\n",
      "|0x4cca29c04f91cd3...|Dunkin'|       3.5|[\"Coffee shop\",\"B...|10325642150425510...|Maria Ysabel Adam...|     4|                null|2017-08-23|\n",
      "|0x4cca29c04f91cd3...|Dunkin'|       3.5|[\"Coffee shop\",\"B...|10778009752907453...|      gary bourgeois|     3|Coffee order was ...|2020-09-08|\n",
      "|0x4cca29c04f91cd3...|Dunkin'|       3.5|[\"Coffee shop\",\"B...|10386374329617697...|       Ahmed Albakri|     4| Good place to relax|2017-02-08|\n",
      "|0x4cca29c04f91cd3...|Dunkin'|       3.5|[\"Coffee shop\",\"B...|11353979891578962...|         Bill Forkey|     4|                null|2020-11-30|\n",
      "|0x4cca29c04f91cd3...|Dunkin'|       3.5|[\"Coffee shop\",\"B...|10489178281600021...|    Christine Wilson|     5|                null|2019-10-30|\n",
      "|0x4cca29c04f91cd3...|Dunkin'|       3.5|[\"Coffee shop\",\"B...|10619135115972530...|              Dodong|     4|                null|2019-04-04|\n",
      "|0x4cca29c04f91cd3...|Dunkin'|       3.5|[\"Coffee shop\",\"B...|10066762499639284...|               Henry|     1|Service is very s...|2019-10-02|\n",
      "|0x4cca29c04f91cd3...|Dunkin'|       3.5|[\"Coffee shop\",\"B...|11367110768332192...|    Patrick Paquette|     5|                null|2020-09-27|\n",
      "|0x4cca29c04f91cd3...|Dunkin'|       3.5|[\"Coffee shop\",\"B...|11578535076192205...|       Adam Sterling|     3|                null|2016-10-06|\n",
      "|0x4cca29c04f91cd3...|Dunkin'|       3.5|[\"Coffee shop\",\"B...|11431891153028263...|          Alex Piper|     2|Doughnuts are ver...|2019-11-03|\n",
      "|0x4cca29c04f91cd3...|Dunkin'|       3.5|[\"Coffee shop\",\"B...|11014213791734528...|     Amanda VanOrman|     5|             Love it|2016-11-20|\n",
      "|0x4cca29c04f91cd3...|Dunkin'|       3.5|[\"Coffee shop\",\"B...|10136579585253395...|        Jason Greene|     2|The morning emplo...|2017-04-12|\n",
      "|0x4cca29c04f91cd3...|Dunkin'|       3.5|[\"Coffee shop\",\"B...|11040101141287280...|       Jeremy Leiden|     5|Great Dunkin to s...|2020-06-13|\n",
      "+--------------------+-------+----------+--------------------+--------------------+--------------------+------+--------------------+----------+\n",
      "only showing top 20 rows\n",
      "\n"
     ]
    }
   ],
   "source": [
    "# observamos como nos queda el nuevo df despues del join\n",
    "df_join.show()"
   ]
  }
 ],
 "metadata": {
  "kernelspec": {
   "display_name": "Python 3",
   "language": "python",
   "name": "python3"
  },
  "language_info": {
   "codemirror_mode": {
    "name": "ipython",
    "version": 3
   },
   "file_extension": ".py",
   "mimetype": "text/x-python",
   "name": "python",
   "nbconvert_exporter": "python",
   "pygments_lexer": "ipython3",
   "version": "3.10.10"
  },
  "orig_nbformat": 4,
  "vscode": {
   "interpreter": {
    "hash": "7240ea951ceaba11e29eac9de981dee739bdf7955bec6037107e9ed0cae0a328"
   }
  }
 },
 "nbformat": 4,
 "nbformat_minor": 2
}
